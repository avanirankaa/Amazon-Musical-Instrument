{
  "nbformat": 4,
  "nbformat_minor": 0,
  "metadata": {
    "colab": {
      "name": "Amazon Musical Instrument Reviews.ipynb",
      "provenance": [],
      "collapsed_sections": []
    },
    "kernelspec": {
      "name": "python3",
      "display_name": "Python 3"
    },
    "language_info": {
      "name": "python"
    }
  },
  "cells": [
    {
      "cell_type": "code",
      "metadata": {
        "id": "sF-cLQk0h8fV"
      },
      "source": [
        "import pandas as pd\n",
        "import numpy as np\n",
        "import matplotlib.pyplot as plt\n",
        "import nltk"
      ],
      "execution_count": 1,
      "outputs": []
    },
    {
      "cell_type": "code",
      "metadata": {
        "id": "EFFk38Zgh9gG"
      },
      "source": [
        "df=pd.read_csv('/content/drive/MyDrive/Musical_instruments_reviews.csv')"
      ],
      "execution_count": 2,
      "outputs": []
    },
    {
      "cell_type": "code",
      "metadata": {
        "colab": {
          "base_uri": "https://localhost:8080/",
          "height": 289
        },
        "id": "doPer3r2kM6v",
        "outputId": "a197a7fd-03bc-4874-8cf2-ab190158324e"
      },
      "source": [
        "df.head()"
      ],
      "execution_count": 3,
      "outputs": [
        {
          "output_type": "execute_result",
          "data": {
            "text/html": [
              "<div>\n",
              "<style scoped>\n",
              "    .dataframe tbody tr th:only-of-type {\n",
              "        vertical-align: middle;\n",
              "    }\n",
              "\n",
              "    .dataframe tbody tr th {\n",
              "        vertical-align: top;\n",
              "    }\n",
              "\n",
              "    .dataframe thead th {\n",
              "        text-align: right;\n",
              "    }\n",
              "</style>\n",
              "<table border=\"1\" class=\"dataframe\">\n",
              "  <thead>\n",
              "    <tr style=\"text-align: right;\">\n",
              "      <th></th>\n",
              "      <th>reviewerID</th>\n",
              "      <th>asin</th>\n",
              "      <th>reviewerName</th>\n",
              "      <th>helpful</th>\n",
              "      <th>reviewText</th>\n",
              "      <th>overall</th>\n",
              "      <th>summary</th>\n",
              "      <th>unixReviewTime</th>\n",
              "      <th>reviewTime</th>\n",
              "    </tr>\n",
              "  </thead>\n",
              "  <tbody>\n",
              "    <tr>\n",
              "      <th>0</th>\n",
              "      <td>A2IBPI20UZIR0U</td>\n",
              "      <td>1384719342</td>\n",
              "      <td>cassandra tu \"Yeah, well, that's just like, u...</td>\n",
              "      <td>[0, 0]</td>\n",
              "      <td>Not much to write about here, but it does exac...</td>\n",
              "      <td>5.0</td>\n",
              "      <td>good</td>\n",
              "      <td>1393545600</td>\n",
              "      <td>02 28, 2014</td>\n",
              "    </tr>\n",
              "    <tr>\n",
              "      <th>1</th>\n",
              "      <td>A14VAT5EAX3D9S</td>\n",
              "      <td>1384719342</td>\n",
              "      <td>Jake</td>\n",
              "      <td>[13, 14]</td>\n",
              "      <td>The product does exactly as it should and is q...</td>\n",
              "      <td>5.0</td>\n",
              "      <td>Jake</td>\n",
              "      <td>1363392000</td>\n",
              "      <td>03 16, 2013</td>\n",
              "    </tr>\n",
              "    <tr>\n",
              "      <th>2</th>\n",
              "      <td>A195EZSQDW3E21</td>\n",
              "      <td>1384719342</td>\n",
              "      <td>Rick Bennette \"Rick Bennette\"</td>\n",
              "      <td>[1, 1]</td>\n",
              "      <td>The primary job of this device is to block the...</td>\n",
              "      <td>5.0</td>\n",
              "      <td>It Does The Job Well</td>\n",
              "      <td>1377648000</td>\n",
              "      <td>08 28, 2013</td>\n",
              "    </tr>\n",
              "    <tr>\n",
              "      <th>3</th>\n",
              "      <td>A2C00NNG1ZQQG2</td>\n",
              "      <td>1384719342</td>\n",
              "      <td>RustyBill \"Sunday Rocker\"</td>\n",
              "      <td>[0, 0]</td>\n",
              "      <td>Nice windscreen protects my MXL mic and preven...</td>\n",
              "      <td>5.0</td>\n",
              "      <td>GOOD WINDSCREEN FOR THE MONEY</td>\n",
              "      <td>1392336000</td>\n",
              "      <td>02 14, 2014</td>\n",
              "    </tr>\n",
              "    <tr>\n",
              "      <th>4</th>\n",
              "      <td>A94QU4C90B1AX</td>\n",
              "      <td>1384719342</td>\n",
              "      <td>SEAN MASLANKA</td>\n",
              "      <td>[0, 0]</td>\n",
              "      <td>This pop filter is great. It looks and perform...</td>\n",
              "      <td>5.0</td>\n",
              "      <td>No more pops when I record my vocals.</td>\n",
              "      <td>1392940800</td>\n",
              "      <td>02 21, 2014</td>\n",
              "    </tr>\n",
              "  </tbody>\n",
              "</table>\n",
              "</div>"
            ],
            "text/plain": [
              "       reviewerID        asin  ... unixReviewTime   reviewTime\n",
              "0  A2IBPI20UZIR0U  1384719342  ...     1393545600  02 28, 2014\n",
              "1  A14VAT5EAX3D9S  1384719342  ...     1363392000  03 16, 2013\n",
              "2  A195EZSQDW3E21  1384719342  ...     1377648000  08 28, 2013\n",
              "3  A2C00NNG1ZQQG2  1384719342  ...     1392336000  02 14, 2014\n",
              "4   A94QU4C90B1AX  1384719342  ...     1392940800  02 21, 2014\n",
              "\n",
              "[5 rows x 9 columns]"
            ]
          },
          "metadata": {
            "tags": []
          },
          "execution_count": 3
        }
      ]
    },
    {
      "cell_type": "code",
      "metadata": {
        "colab": {
          "base_uri": "https://localhost:8080/"
        },
        "id": "_8ql1sbBkSvh",
        "outputId": "cc1aa8ac-d01f-49ca-a010-8aaa8aa061c0"
      },
      "source": [
        "df.info()"
      ],
      "execution_count": 4,
      "outputs": [
        {
          "output_type": "stream",
          "text": [
            "<class 'pandas.core.frame.DataFrame'>\n",
            "RangeIndex: 10261 entries, 0 to 10260\n",
            "Data columns (total 9 columns):\n",
            " #   Column          Non-Null Count  Dtype  \n",
            "---  ------          --------------  -----  \n",
            " 0   reviewerID      10261 non-null  object \n",
            " 1   asin            10261 non-null  object \n",
            " 2   reviewerName    10234 non-null  object \n",
            " 3   helpful         10261 non-null  object \n",
            " 4   reviewText      10254 non-null  object \n",
            " 5   overall         10261 non-null  float64\n",
            " 6   summary         10261 non-null  object \n",
            " 7   unixReviewTime  10261 non-null  int64  \n",
            " 8   reviewTime      10261 non-null  object \n",
            "dtypes: float64(1), int64(1), object(7)\n",
            "memory usage: 721.6+ KB\n"
          ],
          "name": "stdout"
        }
      ]
    },
    {
      "cell_type": "code",
      "metadata": {
        "colab": {
          "base_uri": "https://localhost:8080/"
        },
        "id": "0Grl61mQkYSS",
        "outputId": "c4d188d6-a1b6-4788-b02c-b7d9fb75f63b"
      },
      "source": [
        "df.columns"
      ],
      "execution_count": 5,
      "outputs": [
        {
          "output_type": "execute_result",
          "data": {
            "text/plain": [
              "Index(['reviewerID', 'asin', 'reviewerName', 'helpful', 'reviewText',\n",
              "       'overall', 'summary', 'unixReviewTime', 'reviewTime'],\n",
              "      dtype='object')"
            ]
          },
          "metadata": {
            "tags": []
          },
          "execution_count": 5
        }
      ]
    },
    {
      "cell_type": "code",
      "metadata": {
        "colab": {
          "base_uri": "https://localhost:8080/"
        },
        "id": "-Hzx7G9ckbPL",
        "outputId": "92785f1a-591c-4604-8813-a81b12ca4140"
      },
      "source": [
        "#Checking the Null Values\n",
        "df.isnull().sum()"
      ],
      "execution_count": 6,
      "outputs": [
        {
          "output_type": "execute_result",
          "data": {
            "text/plain": [
              "reviewerID         0\n",
              "asin               0\n",
              "reviewerName      27\n",
              "helpful            0\n",
              "reviewText         7\n",
              "overall            0\n",
              "summary            0\n",
              "unixReviewTime     0\n",
              "reviewTime         0\n",
              "dtype: int64"
            ]
          },
          "metadata": {
            "tags": []
          },
          "execution_count": 6
        }
      ]
    },
    {
      "cell_type": "code",
      "metadata": {
        "id": "w_qOiECSkd-a"
      },
      "source": [
        "df['reviewText'].fillna(\"\", inplace = True)"
      ],
      "execution_count": 7,
      "outputs": []
    },
    {
      "cell_type": "code",
      "metadata": {
        "id": "padLC7okkgmD"
      },
      "source": [
        "df['reviewText'].fillna(\"\", inplace = True)"
      ],
      "execution_count": 8,
      "outputs": []
    },
    {
      "cell_type": "code",
      "metadata": {
        "id": "KZk1xGvVkjI5"
      },
      "source": [
        "df['review']=df['reviewText']+' '+df['summary']"
      ],
      "execution_count": 9,
      "outputs": []
    },
    {
      "cell_type": "code",
      "metadata": {
        "colab": {
          "base_uri": "https://localhost:8080/",
          "height": 52
        },
        "id": "ku5ZYTDLklwU",
        "outputId": "ad6c3604-bd31-4ad0-e519-7b9e5ee276ec"
      },
      "source": [
        "df['review'][0]"
      ],
      "execution_count": 10,
      "outputs": [
        {
          "output_type": "execute_result",
          "data": {
            "application/vnd.google.colaboratory.intrinsic+json": {
              "type": "string"
            },
            "text/plain": [
              "\"Not much to write about here, but it does exactly what it's supposed to. filters out the pop sounds. now my recordings are much more crisp. it is one of the lowest prices pop filters on amazon so might as well buy it, they honestly work the same despite their pricing, good\""
            ]
          },
          "metadata": {
            "tags": []
          },
          "execution_count": 10
        }
      ]
    },
    {
      "cell_type": "code",
      "metadata": {
        "colab": {
          "base_uri": "https://localhost:8080/",
          "height": 340
        },
        "id": "chwnfny5koKT",
        "outputId": "46caf66d-d4c3-487e-eb8a-5bee20bcbdf6"
      },
      "source": [
        "df.head()"
      ],
      "execution_count": 11,
      "outputs": [
        {
          "output_type": "execute_result",
          "data": {
            "text/html": [
              "<div>\n",
              "<style scoped>\n",
              "    .dataframe tbody tr th:only-of-type {\n",
              "        vertical-align: middle;\n",
              "    }\n",
              "\n",
              "    .dataframe tbody tr th {\n",
              "        vertical-align: top;\n",
              "    }\n",
              "\n",
              "    .dataframe thead th {\n",
              "        text-align: right;\n",
              "    }\n",
              "</style>\n",
              "<table border=\"1\" class=\"dataframe\">\n",
              "  <thead>\n",
              "    <tr style=\"text-align: right;\">\n",
              "      <th></th>\n",
              "      <th>reviewerID</th>\n",
              "      <th>asin</th>\n",
              "      <th>reviewerName</th>\n",
              "      <th>helpful</th>\n",
              "      <th>reviewText</th>\n",
              "      <th>overall</th>\n",
              "      <th>summary</th>\n",
              "      <th>unixReviewTime</th>\n",
              "      <th>reviewTime</th>\n",
              "      <th>review</th>\n",
              "    </tr>\n",
              "  </thead>\n",
              "  <tbody>\n",
              "    <tr>\n",
              "      <th>0</th>\n",
              "      <td>A2IBPI20UZIR0U</td>\n",
              "      <td>1384719342</td>\n",
              "      <td>cassandra tu \"Yeah, well, that's just like, u...</td>\n",
              "      <td>[0, 0]</td>\n",
              "      <td>Not much to write about here, but it does exac...</td>\n",
              "      <td>5.0</td>\n",
              "      <td>good</td>\n",
              "      <td>1393545600</td>\n",
              "      <td>02 28, 2014</td>\n",
              "      <td>Not much to write about here, but it does exac...</td>\n",
              "    </tr>\n",
              "    <tr>\n",
              "      <th>1</th>\n",
              "      <td>A14VAT5EAX3D9S</td>\n",
              "      <td>1384719342</td>\n",
              "      <td>Jake</td>\n",
              "      <td>[13, 14]</td>\n",
              "      <td>The product does exactly as it should and is q...</td>\n",
              "      <td>5.0</td>\n",
              "      <td>Jake</td>\n",
              "      <td>1363392000</td>\n",
              "      <td>03 16, 2013</td>\n",
              "      <td>The product does exactly as it should and is q...</td>\n",
              "    </tr>\n",
              "    <tr>\n",
              "      <th>2</th>\n",
              "      <td>A195EZSQDW3E21</td>\n",
              "      <td>1384719342</td>\n",
              "      <td>Rick Bennette \"Rick Bennette\"</td>\n",
              "      <td>[1, 1]</td>\n",
              "      <td>The primary job of this device is to block the...</td>\n",
              "      <td>5.0</td>\n",
              "      <td>It Does The Job Well</td>\n",
              "      <td>1377648000</td>\n",
              "      <td>08 28, 2013</td>\n",
              "      <td>The primary job of this device is to block the...</td>\n",
              "    </tr>\n",
              "    <tr>\n",
              "      <th>3</th>\n",
              "      <td>A2C00NNG1ZQQG2</td>\n",
              "      <td>1384719342</td>\n",
              "      <td>RustyBill \"Sunday Rocker\"</td>\n",
              "      <td>[0, 0]</td>\n",
              "      <td>Nice windscreen protects my MXL mic and preven...</td>\n",
              "      <td>5.0</td>\n",
              "      <td>GOOD WINDSCREEN FOR THE MONEY</td>\n",
              "      <td>1392336000</td>\n",
              "      <td>02 14, 2014</td>\n",
              "      <td>Nice windscreen protects my MXL mic and preven...</td>\n",
              "    </tr>\n",
              "    <tr>\n",
              "      <th>4</th>\n",
              "      <td>A94QU4C90B1AX</td>\n",
              "      <td>1384719342</td>\n",
              "      <td>SEAN MASLANKA</td>\n",
              "      <td>[0, 0]</td>\n",
              "      <td>This pop filter is great. It looks and perform...</td>\n",
              "      <td>5.0</td>\n",
              "      <td>No more pops when I record my vocals.</td>\n",
              "      <td>1392940800</td>\n",
              "      <td>02 21, 2014</td>\n",
              "      <td>This pop filter is great. It looks and perform...</td>\n",
              "    </tr>\n",
              "  </tbody>\n",
              "</table>\n",
              "</div>"
            ],
            "text/plain": [
              "       reviewerID  ...                                             review\n",
              "0  A2IBPI20UZIR0U  ...  Not much to write about here, but it does exac...\n",
              "1  A14VAT5EAX3D9S  ...  The product does exactly as it should and is q...\n",
              "2  A195EZSQDW3E21  ...  The primary job of this device is to block the...\n",
              "3  A2C00NNG1ZQQG2  ...  Nice windscreen protects my MXL mic and preven...\n",
              "4   A94QU4C90B1AX  ...  This pop filter is great. It looks and perform...\n",
              "\n",
              "[5 rows x 10 columns]"
            ]
          },
          "metadata": {
            "tags": []
          },
          "execution_count": 11
        }
      ]
    },
    {
      "cell_type": "code",
      "metadata": {
        "id": "_obamxFvkqm1"
      },
      "source": [
        "df = df.drop(['reviewerID','asin','helpful','reviewText','reviewerName','unixReviewTime','reviewTime','summary'],axis=1)"
      ],
      "execution_count": 12,
      "outputs": []
    },
    {
      "cell_type": "code",
      "metadata": {
        "colab": {
          "base_uri": "https://localhost:8080/"
        },
        "id": "9Hs51ZWHkvEb",
        "outputId": "cc4354db-c291-461c-9055-85b621fc0354"
      },
      "source": [
        "df.columns"
      ],
      "execution_count": 13,
      "outputs": [
        {
          "output_type": "execute_result",
          "data": {
            "text/plain": [
              "Index(['overall', 'review'], dtype='object')"
            ]
          },
          "metadata": {
            "tags": []
          },
          "execution_count": 13
        }
      ]
    },
    {
      "cell_type": "code",
      "metadata": {
        "colab": {
          "base_uri": "https://localhost:8080/"
        },
        "id": "a1hQ9dHfkzNI",
        "outputId": "2ff0826d-19f7-4655-aa4e-ac1224b3d192"
      },
      "source": [
        "df['overall'].value_counts()"
      ],
      "execution_count": 14,
      "outputs": [
        {
          "output_type": "execute_result",
          "data": {
            "text/plain": [
              "5.0    6938\n",
              "4.0    2084\n",
              "3.0     772\n",
              "2.0     250\n",
              "1.0     217\n",
              "Name: overall, dtype: int64"
            ]
          },
          "metadata": {
            "tags": []
          },
          "execution_count": 14
        }
      ]
    },
    {
      "cell_type": "code",
      "metadata": {
        "id": "izw74pFNk2nm"
      },
      "source": [
        "def rating(rating):\n",
        "    if(int(rating) == 1 or int(rating) == 2 or int(rating) == 3):\n",
        "        return 0\n",
        "    else: \n",
        "        return 1\n",
        "df.overall = df.overall.apply(rating)"
      ],
      "execution_count": 15,
      "outputs": []
    },
    {
      "cell_type": "code",
      "metadata": {
        "colab": {
          "base_uri": "https://localhost:8080/"
        },
        "id": "S4AFrERqk9p8",
        "outputId": "177d791d-885c-4b79-8f5c-38fca1fc9fdc"
      },
      "source": [
        "df['overall'].value_counts()"
      ],
      "execution_count": 16,
      "outputs": [
        {
          "output_type": "execute_result",
          "data": {
            "text/plain": [
              "1    9022\n",
              "0    1239\n",
              "Name: overall, dtype: int64"
            ]
          },
          "metadata": {
            "tags": []
          },
          "execution_count": 16
        }
      ]
    },
    {
      "cell_type": "code",
      "metadata": {
        "id": "UG0w0tt5lKKU"
      },
      "source": [
        "from nltk.corpus import stopwords\n",
        "from nltk.stem.porter import PorterStemmer\n",
        "from nltk.stem import WordNetLemmatizer\n",
        "from nltk.tokenize import word_tokenize,sent_tokenize\n",
        "import re"
      ],
      "execution_count": 17,
      "outputs": []
    },
    {
      "cell_type": "code",
      "metadata": {
        "colab": {
          "base_uri": "https://localhost:8080/"
        },
        "id": "gc-KdkJElO-H",
        "outputId": "a111124a-76c0-43e7-bcab-8c0d365f0886"
      },
      "source": [
        "import nltk\n",
        "nltk.download('stopwords')"
      ],
      "execution_count": 18,
      "outputs": [
        {
          "output_type": "stream",
          "text": [
            "[nltk_data] Downloading package stopwords to /root/nltk_data...\n",
            "[nltk_data]   Unzipping corpora/stopwords.zip.\n"
          ],
          "name": "stdout"
        },
        {
          "output_type": "execute_result",
          "data": {
            "text/plain": [
              "True"
            ]
          },
          "metadata": {
            "tags": []
          },
          "execution_count": 18
        }
      ]
    },
    {
      "cell_type": "code",
      "metadata": {
        "id": "WhHm6LPClcE5"
      },
      "source": [
        "import string\n",
        "from string import punctuation"
      ],
      "execution_count": 19,
      "outputs": []
    },
    {
      "cell_type": "code",
      "metadata": {
        "id": "uU7PfendlegC"
      },
      "source": [
        "stop = set(stopwords.words('english'))\n",
        "punctuation = list(string.punctuation)\n",
        "stop.update(punctuation)"
      ],
      "execution_count": 20,
      "outputs": []
    },
    {
      "cell_type": "code",
      "metadata": {
        "id": "HEVe2s35lg9D"
      },
      "source": [
        "from nltk.corpus import wordnet"
      ],
      "execution_count": 21,
      "outputs": []
    },
    {
      "cell_type": "code",
      "metadata": {
        "id": "eyDRPM2plj0I"
      },
      "source": [
        "def get_pos(tag):\n",
        "    if tag.startswith('J'):\n",
        "        return wordnet.ADJ\n",
        "    elif tag.startswith('V'):\n",
        "        return wordnet.VERB\n",
        "    elif tag.startswith('N'):\n",
        "        return wordnet.NOUN\n",
        "    elif tag.startswith('R'):\n",
        "        return wordnet.ADV\n",
        "    else:\n",
        "        return wordnet.NOUN"
      ],
      "execution_count": 22,
      "outputs": []
    },
    {
      "cell_type": "code",
      "metadata": {
        "id": "JBLyU-wblo3E"
      },
      "source": [
        "lemmatizer = WordNetLemmatizer()"
      ],
      "execution_count": 23,
      "outputs": []
    },
    {
      "cell_type": "code",
      "metadata": {
        "colab": {
          "base_uri": "https://localhost:8080/"
        },
        "id": "GeKZOvOBlrL8",
        "outputId": "9b32aa4d-906b-45c0-b8b8-203f3c42424d"
      },
      "source": [
        "import nltk\n",
        "nltk.download('averaged_perceptron_tagger')\n",
        "nltk.download('wordnet')"
      ],
      "execution_count": 24,
      "outputs": [
        {
          "output_type": "stream",
          "text": [
            "[nltk_data] Downloading package averaged_perceptron_tagger to\n",
            "[nltk_data]     /root/nltk_data...\n",
            "[nltk_data]   Unzipping taggers/averaged_perceptron_tagger.zip.\n",
            "[nltk_data] Downloading package wordnet to /root/nltk_data...\n",
            "[nltk_data]   Unzipping corpora/wordnet.zip.\n"
          ],
          "name": "stdout"
        },
        {
          "output_type": "execute_result",
          "data": {
            "text/plain": [
              "True"
            ]
          },
          "metadata": {
            "tags": []
          },
          "execution_count": 24
        }
      ]
    },
    {
      "cell_type": "code",
      "metadata": {
        "id": "FfO0T12Xm1uO"
      },
      "source": [
        "from nltk import pos_tag"
      ],
      "execution_count": 25,
      "outputs": []
    },
    {
      "cell_type": "code",
      "metadata": {
        "id": "9Q61DGsTltHz"
      },
      "source": [
        "def lemmatize_words(review):\n",
        "    final_review = []\n",
        "    for i in review.split():\n",
        "        if i.strip().lower() not in stop:\n",
        "            pos = pos_tag([i.strip()])\n",
        "            word = lemmatizer.lemmatize(i.strip(),get_pos(pos[0][1]))\n",
        "            final_review.append(word.lower())\n",
        "    return \" \".join(final_review)"
      ],
      "execution_count": 26,
      "outputs": []
    },
    {
      "cell_type": "code",
      "metadata": {
        "id": "ShJ2m9nHlwBg"
      },
      "source": [
        "df['review'] = df.review.apply(lemmatize_words)"
      ],
      "execution_count": 27,
      "outputs": []
    },
    {
      "cell_type": "code",
      "metadata": {
        "colab": {
          "base_uri": "https://localhost:8080/"
        },
        "id": "tutZAESJlyRt",
        "outputId": "4d833d2e-2695-4451-d6ff-4739ff270948"
      },
      "source": [
        "df['review']"
      ],
      "execution_count": 28,
      "outputs": [
        {
          "output_type": "execute_result",
          "data": {
            "text/plain": [
              "0        much write here, exactly suppose to. filter po...\n",
              "1        product exactly quite affordable.i realize dou...\n",
              "2        primary job device block breath would otherwis...\n",
              "3        nice windscreen protects mxl mic prevents pops...\n",
              "4        pop filter great. look performs like studio fi...\n",
              "                               ...                        \n",
              "10256               great, expected. thank all. five stars\n",
              "10257    i've think try nanoweb string while, bit put h...\n",
              "10258    try coat string past include elixirs) never fo...\n",
              "10259    well, made elixir developed taylor guitars ......\n",
              "10260    string really quite good, call perfect. unwoun...\n",
              "Name: review, Length: 10261, dtype: object"
            ]
          },
          "metadata": {
            "tags": []
          },
          "execution_count": 28
        }
      ]
    },
    {
      "cell_type": "code",
      "metadata": {
        "id": "tIbEqnwsnRGE"
      },
      "source": [
        "from sklearn.linear_model import LogisticRegression,SGDClassifier\n",
        "from sklearn.naive_bayes import MultinomialNB\n",
        "from sklearn.svm import SVC\n",
        "from sklearn.metrics import classification_report,confusion_matrix,accuracy_score\n",
        "from sklearn.model_selection import train_test_split"
      ],
      "execution_count": 29,
      "outputs": []
    },
    {
      "cell_type": "code",
      "metadata": {
        "id": "j-d13R8mnWqM"
      },
      "source": [
        "x_train,x_test,y_train,y_test = train_test_split(df.review,df.overall,test_size = 0.2 , random_state = 0)"
      ],
      "execution_count": 30,
      "outputs": []
    },
    {
      "cell_type": "code",
      "metadata": {
        "id": "1h6sXBO4olHx"
      },
      "source": [
        "from sklearn.feature_extraction.text import CountVectorizer"
      ],
      "execution_count": 31,
      "outputs": []
    },
    {
      "cell_type": "code",
      "metadata": {
        "colab": {
          "base_uri": "https://localhost:8080/"
        },
        "id": "_Kz-UCFoniPX",
        "outputId": "35118170-3be3-4e47-d949-19a92a6feeec"
      },
      "source": [
        "cv = CountVectorizer(min_df= 0,max_df= 1,binary=False,ngram_range= (1,3))\n",
        "\n",
        "cv_train_reviews = cv.fit_transform(x_train)\n",
        "\n",
        "cv_test_reviews = cv.transform(x_test)\n",
        "\n",
        "print('cv_train:',cv_train_reviews.shape)\n",
        "print('cv_test:',cv_test_reviews.shape)"
      ],
      "execution_count": 32,
      "outputs": [
        {
          "output_type": "stream",
          "text": [
            "cv_train: (8208, 573616)\n",
            "cv_test: (2053, 573616)\n"
          ],
          "name": "stdout"
        }
      ]
    },
    {
      "cell_type": "code",
      "metadata": {
        "colab": {
          "base_uri": "https://localhost:8080/"
        },
        "id": "wOXEWfbanog2",
        "outputId": "424c903b-1be1-499f-c21f-be0f637ea5da"
      },
      "source": [
        "lr = LogisticRegression(penalty= 'l2',max_iter=500,C = 1,random_state= 0)\n",
        " \n",
        "lr_bow = lr.fit(cv_train_reviews,y_train)\n",
        "print(lr_bow)\n",
        "\n",
        "lr_tfidf = lr.fit(cv_train_reviews,y_train)\n",
        "print(lr_tfidf)"
      ],
      "execution_count": 33,
      "outputs": [
        {
          "output_type": "stream",
          "text": [
            "LogisticRegression(C=1, class_weight=None, dual=False, fit_intercept=True,\n",
            "                   intercept_scaling=1, l1_ratio=None, max_iter=500,\n",
            "                   multi_class='auto', n_jobs=None, penalty='l2',\n",
            "                   random_state=0, solver='lbfgs', tol=0.0001, verbose=0,\n",
            "                   warm_start=False)\n",
            "LogisticRegression(C=1, class_weight=None, dual=False, fit_intercept=True,\n",
            "                   intercept_scaling=1, l1_ratio=None, max_iter=500,\n",
            "                   multi_class='auto', n_jobs=None, penalty='l2',\n",
            "                   random_state=0, solver='lbfgs', tol=0.0001, verbose=0,\n",
            "                   warm_start=False)\n"
          ],
          "name": "stdout"
        }
      ]
    },
    {
      "cell_type": "code",
      "metadata": {
        "id": "iMwVwvMdnvU1"
      },
      "source": [
        "lr_bow_predict = lr.predict(cv_test_reviews)\n",
        "\n",
        "lr_tfidf_predict = lr.predict(cv_test_reviews)"
      ],
      "execution_count": 34,
      "outputs": []
    },
    {
      "cell_type": "code",
      "metadata": {
        "colab": {
          "base_uri": "https://localhost:8080/"
        },
        "id": "KLHSlMGUn9gA",
        "outputId": "22ebea6e-a215-4aa2-e667-f239b2ad9a62"
      },
      "source": [
        "lr_bow_score = accuracy_score(y_test,lr_bow_predict)\n",
        "print(\"lr_bow_score :\",lr_bow_score)\n",
        "#Accuracy score\n",
        "lr_tfidf_score = accuracy_score(y_test,lr_tfidf_predict)\n",
        "print(\"lr_tfidf_score :\",lr_tfidf_score)"
      ],
      "execution_count": 35,
      "outputs": [
        {
          "output_type": "stream",
          "text": [
            "lr_bow_score : 0.8899171943497322\n",
            "lr_tfidf_score : 0.8899171943497322\n"
          ],
          "name": "stdout"
        }
      ]
    },
    {
      "cell_type": "code",
      "metadata": {
        "colab": {
          "base_uri": "https://localhost:8080/"
        },
        "id": "Iijew1DOqMGN",
        "outputId": "5e6f5c4d-5adc-4cf2-ce89-2083eae8ff5a"
      },
      "source": [
        "lr_bow_report = classification_report(y_test,lr_bow_predict,target_names=['0','1'])\n",
        "print(lr_bow_report)\n",
        "\n",
        "#Classification report \n",
        "lr_tfidf_report = classification_report(y_test,lr_tfidf_predict,target_names=['0','1'])\n",
        "print(lr_tfidf_report)"
      ],
      "execution_count": 36,
      "outputs": [
        {
          "output_type": "stream",
          "text": [
            "              precision    recall  f1-score   support\n",
            "\n",
            "           0       1.00      0.01      0.02       228\n",
            "           1       0.89      1.00      0.94      1825\n",
            "\n",
            "    accuracy                           0.89      2053\n",
            "   macro avg       0.94      0.50      0.48      2053\n",
            "weighted avg       0.90      0.89      0.84      2053\n",
            "\n",
            "              precision    recall  f1-score   support\n",
            "\n",
            "           0       1.00      0.01      0.02       228\n",
            "           1       0.89      1.00      0.94      1825\n",
            "\n",
            "    accuracy                           0.89      2053\n",
            "   macro avg       0.94      0.50      0.48      2053\n",
            "weighted avg       0.90      0.89      0.84      2053\n",
            "\n"
          ],
          "name": "stdout"
        }
      ]
    },
    {
      "cell_type": "code",
      "metadata": {
        "id": "RySf2QsuqSWa",
        "colab": {
          "base_uri": "https://localhost:8080/"
        },
        "outputId": "f0187d2a-5066-48ef-c3f8-54486e0e2331"
      },
      "source": [
        "mnb = MultinomialNB()\n",
        "\n",
        "mnb_bow = mnb.fit(cv_train_reviews,y_train)\n",
        "print(mnb_bow)\n",
        "\n",
        "mnb_tfidf = mnb.fit(cv_train_reviews,y_train)\n",
        "print(mnb_tfidf)"
      ],
      "execution_count": 37,
      "outputs": [
        {
          "output_type": "stream",
          "text": [
            "MultinomialNB(alpha=1.0, class_prior=None, fit_prior=True)\n",
            "MultinomialNB(alpha=1.0, class_prior=None, fit_prior=True)\n"
          ],
          "name": "stdout"
        }
      ]
    },
    {
      "cell_type": "code",
      "metadata": {
        "id": "eVWGtIlEkl0T"
      },
      "source": [
        "mnb_bow_predict = mnb.predict(cv_test_reviews)\n",
        "\n",
        "mnb_tfidf_predict = mnb.predict(cv_test_reviews)"
      ],
      "execution_count": 38,
      "outputs": []
    },
    {
      "cell_type": "code",
      "metadata": {
        "colab": {
          "base_uri": "https://localhost:8080/"
        },
        "id": "m-0-vM_kkrFM",
        "outputId": "f8ce3ac0-927b-4d26-ac95-43305cc3dc56"
      },
      "source": [
        "mnb_bow_score = accuracy_score(y_test,mnb_bow_predict)\n",
        "print(\"mnb_bow_score :\",mnb_bow_score)\n",
        "mnb_tfidf_score = accuracy_score(y_test,mnb_tfidf_predict)\n",
        "print(\"mnb_tfidf_score :\",mnb_tfidf_score)"
      ],
      "execution_count": 41,
      "outputs": [
        {
          "output_type": "stream",
          "text": [
            "mnb_bow_score : 0.8402338041889917\n",
            "mnb_tfidf_score : 0.8402338041889917\n"
          ],
          "name": "stdout"
        }
      ]
    },
    {
      "cell_type": "code",
      "metadata": {
        "colab": {
          "base_uri": "https://localhost:8080/"
        },
        "id": "nWaFEXGxkvYx",
        "outputId": "35a9aa55-c968-48ea-dc61-cbc93ac663cb"
      },
      "source": [
        "mnb_bow_report = classification_report(y_test,mnb_bow_predict,target_names = ['0','1'])\n",
        "print(mnb_bow_report)\n",
        "mnb_tfidf_report = classification_report(y_test,mnb_tfidf_predict,target_names = ['0','1'])\n",
        "print(mnb_tfidf_report)"
      ],
      "execution_count": 42,
      "outputs": [
        {
          "output_type": "stream",
          "text": [
            "              precision    recall  f1-score   support\n",
            "\n",
            "           0       0.21      0.16      0.18       228\n",
            "           1       0.90      0.92      0.91      1825\n",
            "\n",
            "    accuracy                           0.84      2053\n",
            "   macro avg       0.56      0.54      0.55      2053\n",
            "weighted avg       0.82      0.84      0.83      2053\n",
            "\n",
            "              precision    recall  f1-score   support\n",
            "\n",
            "           0       0.21      0.16      0.18       228\n",
            "           1       0.90      0.92      0.91      1825\n",
            "\n",
            "    accuracy                           0.84      2053\n",
            "   macro avg       0.56      0.54      0.55      2053\n",
            "weighted avg       0.82      0.84      0.83      2053\n",
            "\n"
          ],
          "name": "stdout"
        }
      ]
    },
    {
      "cell_type": "code",
      "metadata": {
        "id": "lVvqCCvtk1BL"
      },
      "source": [
        "ls =  SVC()\n",
        "ls_bow = ls.fit(cv_train_reviews,y_train)\n",
        "ls_tfidf = ls.fit(cv_train_reviews,y_train)"
      ],
      "execution_count": 43,
      "outputs": []
    },
    {
      "cell_type": "code",
      "metadata": {
        "id": "bl1j2XOQlNAf"
      },
      "source": [
        "#predict\n",
        "\n",
        "ls_bow_predict = ls.predict(cv_test_reviews)\n",
        "ls_tfidf_predict = ls.predict(cv_test_reviews)\n"
      ],
      "execution_count": 44,
      "outputs": []
    },
    {
      "cell_type": "code",
      "metadata": {
        "colab": {
          "base_uri": "https://localhost:8080/"
        },
        "id": "ARC5kl-glP0u",
        "outputId": "3f17d597-299a-4cba-d631-58d167ae6369"
      },
      "source": [
        "#Accuracy\n",
        "\n",
        "ls_bow_score = accuracy_score(y_test, ls_bow_predict)\n",
        "ls_tfidf_score = accuracy_score(y_test,ls_tfidf_predict)\n",
        "\n",
        "print('ls bow accuracy:', ls_bow_score)\n",
        "print('ls tfidf accuracy:', ls_tfidf_score)"
      ],
      "execution_count": 45,
      "outputs": [
        {
          "output_type": "stream",
          "text": [
            "ls bow accuracy: 0.8889430102289333\n",
            "ls tfidf accuracy: 0.8889430102289333\n"
          ],
          "name": "stdout"
        }
      ]
    },
    {
      "cell_type": "code",
      "metadata": {
        "colab": {
          "base_uri": "https://localhost:8080/"
        },
        "id": "FnCYXim0lzDx",
        "outputId": "f94e3367-0e51-4aff-c9d4-59c5b8e3e296"
      },
      "source": [
        "#Classification Report\n",
        "ls_bow_report = classification_report(y_test,ls_bow_predict,target_names = ['0','1'])\n",
        "print(ls_bow_report)\n",
        "ls_tfidf_report = classification_report(y_test,ls_tfidf_predict,target_names = ['0','1'])\n",
        "print(ls_tfidf_report)"
      ],
      "execution_count": 46,
      "outputs": [
        {
          "output_type": "stream",
          "text": [
            "              precision    recall  f1-score   support\n",
            "\n",
            "           0       0.00      0.00      0.00       228\n",
            "           1       0.89      1.00      0.94      1825\n",
            "\n",
            "    accuracy                           0.89      2053\n",
            "   macro avg       0.44      0.50      0.47      2053\n",
            "weighted avg       0.79      0.89      0.84      2053\n",
            "\n",
            "              precision    recall  f1-score   support\n",
            "\n",
            "           0       0.00      0.00      0.00       228\n",
            "           1       0.89      1.00      0.94      1825\n",
            "\n",
            "    accuracy                           0.89      2053\n",
            "   macro avg       0.44      0.50      0.47      2053\n",
            "weighted avg       0.79      0.89      0.84      2053\n",
            "\n"
          ],
          "name": "stdout"
        },
        {
          "output_type": "stream",
          "text": [
            "/usr/local/lib/python3.7/dist-packages/sklearn/metrics/_classification.py:1272: UndefinedMetricWarning: Precision and F-score are ill-defined and being set to 0.0 in labels with no predicted samples. Use `zero_division` parameter to control this behavior.\n",
            "  _warn_prf(average, modifier, msg_start, len(result))\n"
          ],
          "name": "stderr"
        }
      ]
    },
    {
      "cell_type": "code",
      "metadata": {
        "id": "EPaPW4_NoriS"
      },
      "source": [
        ""
      ],
      "execution_count": null,
      "outputs": []
    }
  ]
}